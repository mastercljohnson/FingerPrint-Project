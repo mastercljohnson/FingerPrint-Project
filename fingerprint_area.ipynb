{
 "cells": [
  {
   "cell_type": "code",
   "execution_count": 22,
   "metadata": {
    "scrolled": true
   },
   "outputs": [
    {
     "name": "stdout",
     "output_type": "stream",
     "text": [
      "-1.0\n"
     ]
    },
    {
     "data": {
      "image/png": "[encoded data removed]",
      "text/plain": [
       "<matplotlib.figure.Figure at 0x212f737bd68>"
      ]
     },
     "metadata": {},
     "output_type": "display_data"
    },
    {
     "data": {
      "text/plain": [
       "<matplotlib.figure.Figure at 0x212f72a44a8>"
      ]
     },
     "metadata": {},
     "output_type": "display_data"
    }
   ],
   "source": [
    "import numpy as np\n",
    "from matplotlib import patches\n",
    "import matplotlib.pyplot as plt\n",
    "from matplotlib.collections import PatchCollection\n",
    "\n",
    "#this is a matrix used for testing, \n",
    "#it mimics the minutae points represented at the 0th index\n",
    "# and the type of points at the first index\n",
    "#complex numbers will be implemented\n",
    "# and there will also likely be an import for the dataset model\n",
    "minutiaArray= [[1,1],[3,0]]\n",
    "\n",
    "#function for modelling the direction field \n",
    "def complexfunction(x,minutiaArray):\n",
    "    val=1\n",
    "    for i in range(0,len(minutiaArray)):\n",
    "        if(minutiaArray[i][1]==1):\n",
    "            val=val*(x-minutiaArray[i][0])\n",
    "        if(minutiaArray[i][1]==0):\n",
    "            val=val/(x-minutiaArray[i][0])\n",
    "    return val\n",
    "    \n",
    "print(complexfunction(2,minutiaArray))\n",
    "\n",
    "#plotting the fingerprint\n",
    "fig, ax = plt.subplots()\n",
    "ax.axis([-10,10,-10,10])\n",
    "patch = []\n",
    "\n",
    "#these width and height parameters will be updated once the script for\n",
    "#including all of the minutiae has been implemented\n",
    "xcenter, ycenter = 0,0\n",
    "width, height = 2,2\n",
    "angle= 0\n",
    "\n",
    "fig = plt.figure()\n",
    "e1 = patches.Arc((xcenter, ycenter+height/2), width, height,\n",
    "                     angle,theta1=0.0,theta2=90.0)\n",
    "e2 = patches.Arc((xcenter, ycenter+height/2), width, height,\n",
    "                     angle,theta1=90,theta2=180)\n",
    "e3 = patches.Arc((xcenter, ycenter-height/2), width, height,\n",
    "                     angle,theta1=180,theta2=270)\n",
    "e4 = patches.Arc((xcenter, ycenter-height/2), width, height,\n",
    "                     theta1=270,theta2=0)\n",
    "r1= patches.Rectangle((xcenter-width/2, ycenter-height/2), width, height,\n",
    "                     angle,fill=False)\n",
    "#p = PatchCollection(patch)\n",
    "#ax.add_collection(p)\n",
    "ax.add_patch(e1)\n",
    "ax.add_patch(e4)\n",
    "ax.add_patch(e3)\n",
    "ax.add_patch(e2)\n",
    "ax.add_patch(r1)\n",
    "\n",
    "#quiverplot will eventually be used with the arrays from the function\n",
    "ax.quiver([1,2,3,4,5],[1,2,3,4,5])\n",
    "ax.set_aspect('equal','box')\n",
    "plt.show()"
   ]
  },
  {
   "cell_type": "code",
   "execution_count": 6,
   "metadata": {},
   "outputs": [
    {
     "data": {
      "image/png": "[encoded data removed]",
      "text/plain": [
       "<matplotlib.figure.Figure at 0x1dd7f219048>"
      ]
     },
     "metadata": {},
     "output_type": "display_data"
    }
   ],
   "source": [
    "#example from matplotlib\n",
    "import numpy as np\n",
    "import matplotlib\n",
    "from matplotlib.patches import Circle, Wedge, Polygon\n",
    "from matplotlib.collections import PatchCollection\n",
    "import matplotlib.pyplot as plt\n",
    "\n",
    "\n",
    "fig, ax = plt.subplots()\n",
    "\n",
    "resolution = 50  # the number of vertices\n",
    "N = 3\n",
    "x = np.random.rand(N)\n",
    "y = np.random.rand(N)\n",
    "radii = 0.1*np.random.rand(N)\n",
    "patches = []\n",
    "for x1, y1, r in zip(x, y, radii):\n",
    "    circle = Circle((x1, y1), r)\n",
    "    patches.append(circle)\n",
    "\n",
    "x = np.random.rand(N)\n",
    "y = np.random.rand(N)\n",
    "radii = 0.1*np.random.rand(N)\n",
    "theta1 = 360.0*np.random.rand(N)\n",
    "theta2 = 360.0*np.random.rand(N)\n",
    "for x1, y1, r, t1, t2 in zip(x, y, radii, theta1, theta2):\n",
    "    wedge = Wedge((x1, y1), r, t1, t2)\n",
    "    patches.append(wedge)\n",
    "\n",
    "# Some limiting conditions on Wedge\n",
    "patches += [\n",
    "   # Wedge((.3, .7), .1, 0, 360),             # Full circle\n",
    "   # Wedge((.7, .8), .2, 0, 360, width=0.05),  # Full ring\n",
    "   # Wedge((.8, .3), .2, 0, 45),              # Full sector\n",
    "   # Wedge((.8, .3), .2, 45, 90, width=0.10),  # Ring sector\n",
    "]\n",
    "\n",
    "for i in range(N):\n",
    "    polygon = Polygon(np.random.rand(N, 2), True)\n",
    "    patches.append(polygon)\n",
    "\n",
    "#colors = 100*np.random.rand(len(patches))\n",
    "p = PatchCollection(patches, alpha=0.4)\n",
    "#p.set_array(np.array(colors))\n",
    "ax.add_collection(p)\n",
    "#fig.colorbar(p, ax=ax)\n",
    "\n",
    "plt.show()"
   ]
  },
  {
   "cell_type": "code",
   "execution_count": null,
   "metadata": {},
   "outputs": [],
   "source": []
  }
 ],
 "metadata": {
  "kernelspec": {
   "display_name": "Python 3",
   "language": "python",
   "name": "python3"
  },
  "language_info": {
   "codemirror_mode": {
    "name": "ipython",
    "version": 3
   },
   "file_extension": ".py",
   "mimetype": "text/x-python",
   "name": "python",
   "nbconvert_exporter": "python",
   "pygments_lexer": "ipython3",
   "version": "3.6.4"
  }
 },
 "nbformat": 4,
 "nbformat_minor": 2
}
